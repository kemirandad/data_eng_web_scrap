{
 "cells": [
  {
   "cell_type": "markdown",
   "id": "fdac84f8",
   "metadata": {},
   "source": [
    "### Series"
   ]
  },
  {
   "cell_type": "code",
   "execution_count": 2,
   "id": "0c601e2d",
   "metadata": {},
   "outputs": [
    {
     "data": {
      "text/plain": [
       "0    100\n",
       "1    200\n",
       "2    300\n",
       "dtype: int64"
      ]
     },
     "execution_count": 2,
     "metadata": {},
     "output_type": "execute_result"
    }
   ],
   "source": [
    "import pandas as pd\n",
    "\n",
    "series_test = pd.Series([100,200,300])\n",
    "series_test"
   ]
  },
  {
   "cell_type": "code",
   "execution_count": 3,
   "id": "2645a92d",
   "metadata": {},
   "outputs": [
    {
     "data": {
      "text/plain": [
       "1999    48\n",
       "2000    65\n",
       "2001    89\n",
       "dtype: int64"
      ]
     },
     "execution_count": 3,
     "metadata": {},
     "output_type": "execute_result"
    }
   ],
   "source": [
    "series_test2 = pd.Series({1999: 48,\n",
    "                         2000: 65,\n",
    "                         2001: 89})\n",
    "series_test2"
   ]
  },
  {
   "cell_type": "code",
   "execution_count": 4,
   "id": "8f4a5bc3",
   "metadata": {},
   "outputs": [
    {
     "data": {
      "text/plain": [
       "dtype('int64')"
      ]
     },
     "execution_count": 4,
     "metadata": {},
     "output_type": "execute_result"
    }
   ],
   "source": [
    "series_test2.dtypes"
   ]
  },
  {
   "cell_type": "code",
   "execution_count": 5,
   "id": "457ef8b7",
   "metadata": {},
   "outputs": [
    {
     "data": {
      "text/plain": [
       "dtype('int64')"
      ]
     },
     "execution_count": 5,
     "metadata": {},
     "output_type": "execute_result"
    }
   ],
   "source": [
    "series_test.dtype"
   ]
  },
  {
   "cell_type": "code",
   "execution_count": 6,
   "id": "5298af42",
   "metadata": {},
   "outputs": [
    {
     "ename": "TypeError",
     "evalue": "Series.name must be a hashable type",
     "output_type": "error",
     "traceback": [
      "\u001b[1;31m---------------------------------------------------------------------------\u001b[0m",
      "\u001b[1;31mTypeError\u001b[0m                                 Traceback (most recent call last)",
      "\u001b[1;32m<ipython-input-6-da162c43758a>\u001b[0m in \u001b[0;36m<module>\u001b[1;34m\u001b[0m\n\u001b[1;32m----> 1\u001b[1;33m series_test2 = pd.Series({1999: 48,\n\u001b[0m\u001b[0;32m      2\u001b[0m                          \u001b[1;36m2000\u001b[0m\u001b[1;33m:\u001b[0m \u001b[1;36m65\u001b[0m\u001b[1;33m,\u001b[0m\u001b[1;33m\u001b[0m\u001b[1;33m\u001b[0m\u001b[0m\n\u001b[0;32m      3\u001b[0m                          2001: 89}, name=['amount'])\n\u001b[0;32m      4\u001b[0m \u001b[0mseries_test2\u001b[0m\u001b[1;33m\u001b[0m\u001b[1;33m\u001b[0m\u001b[0m\n",
      "\u001b[1;32m~\\anaconda3\\lib\\site-packages\\pandas\\core\\series.py\u001b[0m in \u001b[0;36m__init__\u001b[1;34m(self, data, index, dtype, name, copy, fastpath)\u001b[0m\n\u001b[0;32m    264\u001b[0m         \u001b[1;32melse\u001b[0m\u001b[1;33m:\u001b[0m\u001b[1;33m\u001b[0m\u001b[1;33m\u001b[0m\u001b[0m\n\u001b[0;32m    265\u001b[0m \u001b[1;33m\u001b[0m\u001b[0m\n\u001b[1;32m--> 266\u001b[1;33m             \u001b[0mname\u001b[0m \u001b[1;33m=\u001b[0m \u001b[0mibase\u001b[0m\u001b[1;33m.\u001b[0m\u001b[0mmaybe_extract_name\u001b[0m\u001b[1;33m(\u001b[0m\u001b[0mname\u001b[0m\u001b[1;33m,\u001b[0m \u001b[0mdata\u001b[0m\u001b[1;33m,\u001b[0m \u001b[0mtype\u001b[0m\u001b[1;33m(\u001b[0m\u001b[0mself\u001b[0m\u001b[1;33m)\u001b[0m\u001b[1;33m)\u001b[0m\u001b[1;33m\u001b[0m\u001b[1;33m\u001b[0m\u001b[0m\n\u001b[0m\u001b[0;32m    267\u001b[0m \u001b[1;33m\u001b[0m\u001b[0m\n\u001b[0;32m    268\u001b[0m             \u001b[1;32mif\u001b[0m \u001b[0mis_empty_data\u001b[0m\u001b[1;33m(\u001b[0m\u001b[0mdata\u001b[0m\u001b[1;33m)\u001b[0m \u001b[1;32mand\u001b[0m \u001b[0mdtype\u001b[0m \u001b[1;32mis\u001b[0m \u001b[1;32mNone\u001b[0m\u001b[1;33m:\u001b[0m\u001b[1;33m\u001b[0m\u001b[1;33m\u001b[0m\u001b[0m\n",
      "\u001b[1;32m~\\anaconda3\\lib\\site-packages\\pandas\\core\\indexes\\base.py\u001b[0m in \u001b[0;36mmaybe_extract_name\u001b[1;34m(name, obj, cls)\u001b[0m\n\u001b[0;32m   5962\u001b[0m     \u001b[1;31m# GH#29069\u001b[0m\u001b[1;33m\u001b[0m\u001b[1;33m\u001b[0m\u001b[1;33m\u001b[0m\u001b[0m\n\u001b[0;32m   5963\u001b[0m     \u001b[1;32mif\u001b[0m \u001b[1;32mnot\u001b[0m \u001b[0mis_hashable\u001b[0m\u001b[1;33m(\u001b[0m\u001b[0mname\u001b[0m\u001b[1;33m)\u001b[0m\u001b[1;33m:\u001b[0m\u001b[1;33m\u001b[0m\u001b[1;33m\u001b[0m\u001b[0m\n\u001b[1;32m-> 5964\u001b[1;33m         \u001b[1;32mraise\u001b[0m \u001b[0mTypeError\u001b[0m\u001b[1;33m(\u001b[0m\u001b[1;34mf\"{cls.__name__}.name must be a hashable type\"\u001b[0m\u001b[1;33m)\u001b[0m\u001b[1;33m\u001b[0m\u001b[1;33m\u001b[0m\u001b[0m\n\u001b[0m\u001b[0;32m   5965\u001b[0m \u001b[1;33m\u001b[0m\u001b[0m\n\u001b[0;32m   5966\u001b[0m     \u001b[1;32mreturn\u001b[0m \u001b[0mname\u001b[0m\u001b[1;33m\u001b[0m\u001b[1;33m\u001b[0m\u001b[0m\n",
      "\u001b[1;31mTypeError\u001b[0m: Series.name must be a hashable type"
     ]
    }
   ],
   "source": [
    "series_test2 = pd.Series({1999: 48,\n",
    "                         2000: 65,\n",
    "                         2001: 89}, name=['amount'])\n",
    "series_test2"
   ]
  },
  {
   "cell_type": "code",
   "execution_count": null,
   "id": "c34da2dc",
   "metadata": {},
   "outputs": [],
   "source": [
    "pd.Series?"
   ]
  },
  {
   "cell_type": "markdown",
   "id": "dbe7ab9d",
   "metadata": {},
   "source": [
    "### DataFrames"
   ]
  },
  {
   "cell_type": "code",
   "execution_count": null,
   "id": "008f75fd",
   "metadata": {},
   "outputs": [],
   "source": [
    "frame_test = pd.DataFrame({1999:[74,38,39],\n",
    "                          2000:[34,32,32],\n",
    "                          2001:[239,39,23]})\n",
    "\n",
    "frame_test"
   ]
  },
  {
   "cell_type": "code",
   "execution_count": null,
   "id": "ef8ce7e6",
   "metadata": {},
   "outputs": [],
   "source": [
    "frame_test2 = pd.DataFrame([[74,38,39],\n",
    "                          [34,32,32],\n",
    "                          [239,39,23]], columns=[1999,2000,2001])\n",
    "frame_test2"
   ]
  },
  {
   "cell_type": "code",
   "execution_count": null,
   "id": "9924dc15",
   "metadata": {},
   "outputs": [],
   "source": [
    "!pip freeze"
   ]
  },
  {
   "cell_type": "code",
   "execution_count": 10,
   "id": "2b9b522e",
   "metadata": {},
   "outputs": [
    {
     "data": {
      "text/html": [
       "<div>\n",
       "<style scoped>\n",
       "    .dataframe tbody tr th:only-of-type {\n",
       "        vertical-align: middle;\n",
       "    }\n",
       "\n",
       "    .dataframe tbody tr th {\n",
       "        vertical-align: top;\n",
       "    }\n",
       "\n",
       "    .dataframe thead th {\n",
       "        text-align: right;\n",
       "    }\n",
       "</style>\n",
       "<table border=\"1\" class=\"dataframe\">\n",
       "  <thead>\n",
       "    <tr style=\"text-align: right;\">\n",
       "      <th></th>\n",
       "      <th>body</th>\n",
       "      <th>title</th>\n",
       "      <th>url</th>\n",
       "    </tr>\n",
       "  </thead>\n",
       "  <tbody>\n",
       "    <tr>\n",
       "      <th>0</th>\n",
       "      <td>El director de la edición americana de EL PAÍS...</td>\n",
       "      <td>Jan Martínez Ahrens: “El periódico tiene la na...</td>\n",
       "      <td>https://elpais.com/mexico/2021-03-05/jan-marti...</td>\n",
       "    </tr>\n",
       "    <tr>\n",
       "      <th>1</th>\n",
       "      <td>La estadounidense ha revolucionado su deporte ...</td>\n",
       "      <td>Simone Biles, la mujer que todo lo ha cambiado</td>\n",
       "      <td>https://elpais.com/deportes/juegos-olimpicos/2...</td>\n",
       "    </tr>\n",
       "    <tr>\n",
       "      <th>2</th>\n",
       "      <td>La pandemia y el Brexit exponen la resistencia...</td>\n",
       "      <td>La relación no tan ‘especial’ de Johnson y Biden</td>\n",
       "      <td>https://elpais.com/internacional/2021-07-31/la...</td>\n",
       "    </tr>\n",
       "    <tr>\n",
       "      <th>3</th>\n",
       "      <td>El ministro de Exteriores pide una “respuesta ...</td>\n",
       "      <td>Israel acusa a Irán de un ataque contra un pet...</td>\n",
       "      <td>https://elpais.com/internacional/2021-07-30/va...</td>\n",
       "    </tr>\n",
       "    <tr>\n",
       "      <th>4</th>\n",
       "      <td>La actriz considera que se incumplió el contra...</td>\n",
       "      <td>Scarlett Johansson demanda a Disney por el est...</td>\n",
       "      <td>https://elpais.com/cultura/2021-07-29/scarlett...</td>\n",
       "    </tr>\n",
       "    <tr>\n",
       "      <th>...</th>\n",
       "      <td>...</td>\n",
       "      <td>...</td>\n",
       "      <td>...</td>\n",
       "    </tr>\n",
       "    <tr>\n",
       "      <th>78</th>\n",
       "      <td>La estrella edita su segundo disco, ‘Happier T...</td>\n",
       "      <td>Billie Eilish ya no está tan deprimida</td>\n",
       "      <td>https://elpais.com/cultura/2021-07-30/billie-e...</td>\n",
       "    </tr>\n",
       "    <tr>\n",
       "      <th>79</th>\n",
       "      <td>Fátima Gálvez y Alberto Fernández no consiguie...</td>\n",
       "      <td>Vídeo | El dúo mixto de tiradores españoles qu...</td>\n",
       "      <td>https://elpais.com/videos/2021-07-30/video-el-...</td>\n",
       "    </tr>\n",
       "    <tr>\n",
       "      <th>80</th>\n",
       "      <td>El clásico de Danny Boyle cumple un cuarto de ...</td>\n",
       "      <td>“Aglutinó muchos barrios del mundo y muchos mo...</td>\n",
       "      <td>https://elpais.com/icon/cultura/2021-07-30/agl...</td>\n",
       "    </tr>\n",
       "    <tr>\n",
       "      <th>81</th>\n",
       "      <td>El Gobierno de Iván Duque les hará un acompaña...</td>\n",
       "      <td>Colombia: 4.000 campesinos desplazados por gru...</td>\n",
       "      <td>https://elpais.com/internacional/2021-07-29/co...</td>\n",
       "    </tr>\n",
       "    <tr>\n",
       "      <th>82</th>\n",
       "      <td>Aunque se impulse la eficiencia energética y e...</td>\n",
       "      <td>El neonegacionismo, la mayor amenaza para el p...</td>\n",
       "      <td>https://elpais.com/clima-y-medio-ambiente/2021...</td>\n",
       "    </tr>\n",
       "  </tbody>\n",
       "</table>\n",
       "<p>83 rows × 3 columns</p>\n",
       "</div>"
      ],
      "text/plain": [
       "                                                 body  \\\n",
       "0   El director de la edición americana de EL PAÍS...   \n",
       "1   La estadounidense ha revolucionado su deporte ...   \n",
       "2   La pandemia y el Brexit exponen la resistencia...   \n",
       "3   El ministro de Exteriores pide una “respuesta ...   \n",
       "4   La actriz considera que se incumplió el contra...   \n",
       "..                                                ...   \n",
       "78  La estrella edita su segundo disco, ‘Happier T...   \n",
       "79  Fátima Gálvez y Alberto Fernández no consiguie...   \n",
       "80  El clásico de Danny Boyle cumple un cuarto de ...   \n",
       "81  El Gobierno de Iván Duque les hará un acompaña...   \n",
       "82  Aunque se impulse la eficiencia energética y e...   \n",
       "\n",
       "                                                title  \\\n",
       "0   Jan Martínez Ahrens: “El periódico tiene la na...   \n",
       "1      Simone Biles, la mujer que todo lo ha cambiado   \n",
       "2    La relación no tan ‘especial’ de Johnson y Biden   \n",
       "3   Israel acusa a Irán de un ataque contra un pet...   \n",
       "4   Scarlett Johansson demanda a Disney por el est...   \n",
       "..                                                ...   \n",
       "78             Billie Eilish ya no está tan deprimida   \n",
       "79  Vídeo | El dúo mixto de tiradores españoles qu...   \n",
       "80  “Aglutinó muchos barrios del mundo y muchos mo...   \n",
       "81  Colombia: 4.000 campesinos desplazados por gru...   \n",
       "82  El neonegacionismo, la mayor amenaza para el p...   \n",
       "\n",
       "                                                  url  \n",
       "0   https://elpais.com/mexico/2021-03-05/jan-marti...  \n",
       "1   https://elpais.com/deportes/juegos-olimpicos/2...  \n",
       "2   https://elpais.com/internacional/2021-07-31/la...  \n",
       "3   https://elpais.com/internacional/2021-07-30/va...  \n",
       "4   https://elpais.com/cultura/2021-07-29/scarlett...  \n",
       "..                                                ...  \n",
       "78  https://elpais.com/cultura/2021-07-30/billie-e...  \n",
       "79  https://elpais.com/videos/2021-07-30/video-el-...  \n",
       "80  https://elpais.com/icon/cultura/2021-07-30/agl...  \n",
       "81  https://elpais.com/internacional/2021-07-29/co...  \n",
       "82  https://elpais.com/clima-y-medio-ambiente/2021...  \n",
       "\n",
       "[83 rows x 3 columns]"
      ]
     },
     "execution_count": 10,
     "metadata": {},
     "output_type": "execute_result"
    }
   ],
   "source": [
    "el_pais = pd.read_csv('../elpais_2021_07_31_articles.csv')\n",
    "el_pais"
   ]
  },
  {
   "cell_type": "code",
   "execution_count": 12,
   "id": "a0c0f42e",
   "metadata": {},
   "outputs": [],
   "source": [
    "pd.options.display.max_rows = 10"
   ]
  },
  {
   "cell_type": "code",
   "execution_count": 14,
   "id": "fc36f0ac",
   "metadata": {},
   "outputs": [
    {
     "data": {
      "text/html": [
       "<div>\n",
       "<style scoped>\n",
       "    .dataframe tbody tr th:only-of-type {\n",
       "        vertical-align: middle;\n",
       "    }\n",
       "\n",
       "    .dataframe tbody tr th {\n",
       "        vertical-align: top;\n",
       "    }\n",
       "\n",
       "    .dataframe thead th {\n",
       "        text-align: right;\n",
       "    }\n",
       "</style>\n",
       "<table border=\"1\" class=\"dataframe\">\n",
       "  <thead>\n",
       "    <tr style=\"text-align: right;\">\n",
       "      <th></th>\n",
       "      <th>body</th>\n",
       "      <th>title</th>\n",
       "      <th>url</th>\n",
       "    </tr>\n",
       "  </thead>\n",
       "  <tbody>\n",
       "    <tr>\n",
       "      <th>0</th>\n",
       "      <td>El director de la edición americana de EL PAÍS...</td>\n",
       "      <td>Jan Martínez Ahrens: “El periódico tiene la na...</td>\n",
       "      <td>https://elpais.com/mexico/2021-03-05/jan-marti...</td>\n",
       "    </tr>\n",
       "    <tr>\n",
       "      <th>1</th>\n",
       "      <td>La estadounidense ha revolucionado su deporte ...</td>\n",
       "      <td>Simone Biles, la mujer que todo lo ha cambiado</td>\n",
       "      <td>https://elpais.com/deportes/juegos-olimpicos/2...</td>\n",
       "    </tr>\n",
       "    <tr>\n",
       "      <th>2</th>\n",
       "      <td>La pandemia y el Brexit exponen la resistencia...</td>\n",
       "      <td>La relación no tan ‘especial’ de Johnson y Biden</td>\n",
       "      <td>https://elpais.com/internacional/2021-07-31/la...</td>\n",
       "    </tr>\n",
       "    <tr>\n",
       "      <th>3</th>\n",
       "      <td>El ministro de Exteriores pide una “respuesta ...</td>\n",
       "      <td>Israel acusa a Irán de un ataque contra un pet...</td>\n",
       "      <td>https://elpais.com/internacional/2021-07-30/va...</td>\n",
       "    </tr>\n",
       "    <tr>\n",
       "      <th>4</th>\n",
       "      <td>La actriz considera que se incumplió el contra...</td>\n",
       "      <td>Scarlett Johansson demanda a Disney por el est...</td>\n",
       "      <td>https://elpais.com/cultura/2021-07-29/scarlett...</td>\n",
       "    </tr>\n",
       "  </tbody>\n",
       "</table>\n",
       "</div>"
      ],
      "text/plain": [
       "                                                body  \\\n",
       "0  El director de la edición americana de EL PAÍS...   \n",
       "1  La estadounidense ha revolucionado su deporte ...   \n",
       "2  La pandemia y el Brexit exponen la resistencia...   \n",
       "3  El ministro de Exteriores pide una “respuesta ...   \n",
       "4  La actriz considera que se incumplió el contra...   \n",
       "\n",
       "                                               title  \\\n",
       "0  Jan Martínez Ahrens: “El periódico tiene la na...   \n",
       "1     Simone Biles, la mujer que todo lo ha cambiado   \n",
       "2   La relación no tan ‘especial’ de Johnson y Biden   \n",
       "3  Israel acusa a Irán de un ataque contra un pet...   \n",
       "4  Scarlett Johansson demanda a Disney por el est...   \n",
       "\n",
       "                                                 url  \n",
       "0  https://elpais.com/mexico/2021-03-05/jan-marti...  \n",
       "1  https://elpais.com/deportes/juegos-olimpicos/2...  \n",
       "2  https://elpais.com/internacional/2021-07-31/la...  \n",
       "3  https://elpais.com/internacional/2021-07-30/va...  \n",
       "4  https://elpais.com/cultura/2021-07-29/scarlett...  "
      ]
     },
     "execution_count": 14,
     "metadata": {},
     "output_type": "execute_result"
    }
   ],
   "source": [
    "el_pais.head()"
   ]
  },
  {
   "cell_type": "code",
   "execution_count": 17,
   "id": "7bad6370",
   "metadata": {},
   "outputs": [
    {
     "data": {
      "text/plain": [
       "0     Jan Martínez Ahrens: “El periódico tiene la na...\n",
       "1        Simone Biles, la mujer que todo lo ha cambiado\n",
       "2      La relación no tan ‘especial’ de Johnson y Biden\n",
       "3     Israel acusa a Irán de un ataque contra un pet...\n",
       "4     Scarlett Johansson demanda a Disney por el est...\n",
       "                            ...                        \n",
       "78               Billie Eilish ya no está tan deprimida\n",
       "79    Vídeo | El dúo mixto de tiradores españoles qu...\n",
       "80    “Aglutinó muchos barrios del mundo y muchos mo...\n",
       "81    Colombia: 4.000 campesinos desplazados por gru...\n",
       "82    El neonegacionismo, la mayor amenaza para el p...\n",
       "Name: title, Length: 83, dtype: object"
      ]
     },
     "execution_count": 17,
     "metadata": {},
     "output_type": "execute_result"
    }
   ],
   "source": [
    "import numpy as np\n",
    "\n",
    "el_pais['title']"
   ]
  },
  {
   "cell_type": "code",
   "execution_count": 18,
   "id": "ec86781a",
   "metadata": {},
   "outputs": [
    {
     "data": {
      "text/html": [
       "<div>\n",
       "<style scoped>\n",
       "    .dataframe tbody tr th:only-of-type {\n",
       "        vertical-align: middle;\n",
       "    }\n",
       "\n",
       "    .dataframe tbody tr th {\n",
       "        vertical-align: top;\n",
       "    }\n",
       "\n",
       "    .dataframe thead th {\n",
       "        text-align: right;\n",
       "    }\n",
       "</style>\n",
       "<table border=\"1\" class=\"dataframe\">\n",
       "  <thead>\n",
       "    <tr style=\"text-align: right;\">\n",
       "      <th></th>\n",
       "      <th>title</th>\n",
       "      <th>url</th>\n",
       "    </tr>\n",
       "  </thead>\n",
       "  <tbody>\n",
       "    <tr>\n",
       "      <th>0</th>\n",
       "      <td>Jan Martínez Ahrens: “El periódico tiene la na...</td>\n",
       "      <td>https://elpais.com/mexico/2021-03-05/jan-marti...</td>\n",
       "    </tr>\n",
       "    <tr>\n",
       "      <th>1</th>\n",
       "      <td>Simone Biles, la mujer que todo lo ha cambiado</td>\n",
       "      <td>https://elpais.com/deportes/juegos-olimpicos/2...</td>\n",
       "    </tr>\n",
       "    <tr>\n",
       "      <th>2</th>\n",
       "      <td>La relación no tan ‘especial’ de Johnson y Biden</td>\n",
       "      <td>https://elpais.com/internacional/2021-07-31/la...</td>\n",
       "    </tr>\n",
       "    <tr>\n",
       "      <th>3</th>\n",
       "      <td>Israel acusa a Irán de un ataque contra un pet...</td>\n",
       "      <td>https://elpais.com/internacional/2021-07-30/va...</td>\n",
       "    </tr>\n",
       "    <tr>\n",
       "      <th>4</th>\n",
       "      <td>Scarlett Johansson demanda a Disney por el est...</td>\n",
       "      <td>https://elpais.com/cultura/2021-07-29/scarlett...</td>\n",
       "    </tr>\n",
       "    <tr>\n",
       "      <th>...</th>\n",
       "      <td>...</td>\n",
       "      <td>...</td>\n",
       "    </tr>\n",
       "    <tr>\n",
       "      <th>78</th>\n",
       "      <td>Billie Eilish ya no está tan deprimida</td>\n",
       "      <td>https://elpais.com/cultura/2021-07-30/billie-e...</td>\n",
       "    </tr>\n",
       "    <tr>\n",
       "      <th>79</th>\n",
       "      <td>Vídeo | El dúo mixto de tiradores españoles qu...</td>\n",
       "      <td>https://elpais.com/videos/2021-07-30/video-el-...</td>\n",
       "    </tr>\n",
       "    <tr>\n",
       "      <th>80</th>\n",
       "      <td>“Aglutinó muchos barrios del mundo y muchos mo...</td>\n",
       "      <td>https://elpais.com/icon/cultura/2021-07-30/agl...</td>\n",
       "    </tr>\n",
       "    <tr>\n",
       "      <th>81</th>\n",
       "      <td>Colombia: 4.000 campesinos desplazados por gru...</td>\n",
       "      <td>https://elpais.com/internacional/2021-07-29/co...</td>\n",
       "    </tr>\n",
       "    <tr>\n",
       "      <th>82</th>\n",
       "      <td>El neonegacionismo, la mayor amenaza para el p...</td>\n",
       "      <td>https://elpais.com/clima-y-medio-ambiente/2021...</td>\n",
       "    </tr>\n",
       "  </tbody>\n",
       "</table>\n",
       "<p>83 rows × 2 columns</p>\n",
       "</div>"
      ],
      "text/plain": [
       "                                                title  \\\n",
       "0   Jan Martínez Ahrens: “El periódico tiene la na...   \n",
       "1      Simone Biles, la mujer que todo lo ha cambiado   \n",
       "2    La relación no tan ‘especial’ de Johnson y Biden   \n",
       "3   Israel acusa a Irán de un ataque contra un pet...   \n",
       "4   Scarlett Johansson demanda a Disney por el est...   \n",
       "..                                                ...   \n",
       "78             Billie Eilish ya no está tan deprimida   \n",
       "79  Vídeo | El dúo mixto de tiradores españoles qu...   \n",
       "80  “Aglutinó muchos barrios del mundo y muchos mo...   \n",
       "81  Colombia: 4.000 campesinos desplazados por gru...   \n",
       "82  El neonegacionismo, la mayor amenaza para el p...   \n",
       "\n",
       "                                                  url  \n",
       "0   https://elpais.com/mexico/2021-03-05/jan-marti...  \n",
       "1   https://elpais.com/deportes/juegos-olimpicos/2...  \n",
       "2   https://elpais.com/internacional/2021-07-31/la...  \n",
       "3   https://elpais.com/internacional/2021-07-30/va...  \n",
       "4   https://elpais.com/cultura/2021-07-29/scarlett...  \n",
       "..                                                ...  \n",
       "78  https://elpais.com/cultura/2021-07-30/billie-e...  \n",
       "79  https://elpais.com/videos/2021-07-30/video-el-...  \n",
       "80  https://elpais.com/icon/cultura/2021-07-30/agl...  \n",
       "81  https://elpais.com/internacional/2021-07-29/co...  \n",
       "82  https://elpais.com/clima-y-medio-ambiente/2021...  \n",
       "\n",
       "[83 rows x 2 columns]"
      ]
     },
     "execution_count": 18,
     "metadata": {},
     "output_type": "execute_result"
    }
   ],
   "source": [
    "el_pais[['title','url']]"
   ]
  },
  {
   "cell_type": "code",
   "execution_count": 23,
   "id": "f4e65a81",
   "metadata": {},
   "outputs": [
    {
     "data": {
      "text/plain": [
       "10    Arrestados en Túnez dos diputados y procesados...\n",
       "11     Bukele’s expansionist dreams for Central America\n",
       "12                             82 libros para el verano\n",
       "13                       Ledecky, tres veces oro en 800\n",
       "14    México se cita con Brasil en las semifinales d...\n",
       "Name: title, dtype: object"
      ]
     },
     "execution_count": 23,
     "metadata": {},
     "output_type": "execute_result"
    }
   ],
   "source": [
    "# numpy like\n",
    "\n",
    "el_pais.iloc[10:15,1]"
   ]
  },
  {
   "cell_type": "code",
   "execution_count": 24,
   "id": "a9b0c05b",
   "metadata": {},
   "outputs": [
    {
     "data": {
      "text/plain": [
       "'La mutación que cambió la historia de las mandarinas'"
      ]
     },
     "execution_count": 24,
     "metadata": {},
     "output_type": "execute_result"
    }
   ],
   "source": [
    "el_pais.iloc[66]['title']"
   ]
  },
  {
   "cell_type": "code",
   "execution_count": 25,
   "id": "bea38abd",
   "metadata": {},
   "outputs": [
    {
     "data": {
      "text/plain": [
       "body     El biólogo español Manuel Talón ha rastreado e...\n",
       "title    La mutación que cambió la historia de las mand...\n",
       "url      https://elpais.com/ciencia/2021-07-28/la-mutac...\n",
       "Name: 66, dtype: object"
      ]
     },
     "execution_count": 25,
     "metadata": {},
     "output_type": "execute_result"
    }
   ],
   "source": [
    "el_pais.iloc[66]"
   ]
  },
  {
   "cell_type": "code",
   "execution_count": 26,
   "id": "6cdea8d1",
   "metadata": {},
   "outputs": [
    {
     "data": {
      "text/plain": [
       "0    El director de la edición americana de EL PAÍS...\n",
       "1    La estadounidense ha revolucionado su deporte ...\n",
       "2    La pandemia y el Brexit exponen la resistencia...\n",
       "3    El ministro de Exteriores pide una “respuesta ...\n",
       "4    La actriz considera que se incumplió el contra...\n",
       "Name: body, dtype: object"
      ]
     },
     "execution_count": 26,
     "metadata": {},
     "output_type": "execute_result"
    }
   ],
   "source": [
    "el_pais.iloc[:5,0]"
   ]
  },
  {
   "cell_type": "code",
   "execution_count": 27,
   "id": "821ccdb6",
   "metadata": {},
   "outputs": [
    {
     "data": {
      "text/html": [
       "<div>\n",
       "<style scoped>\n",
       "    .dataframe tbody tr th:only-of-type {\n",
       "        vertical-align: middle;\n",
       "    }\n",
       "\n",
       "    .dataframe tbody tr th {\n",
       "        vertical-align: top;\n",
       "    }\n",
       "\n",
       "    .dataframe thead th {\n",
       "        text-align: right;\n",
       "    }\n",
       "</style>\n",
       "<table border=\"1\" class=\"dataframe\">\n",
       "  <thead>\n",
       "    <tr style=\"text-align: right;\">\n",
       "      <th></th>\n",
       "      <th>body</th>\n",
       "      <th>title</th>\n",
       "    </tr>\n",
       "  </thead>\n",
       "  <tbody>\n",
       "    <tr>\n",
       "      <th>0</th>\n",
       "      <td>El director de la edición americana de EL PAÍS...</td>\n",
       "      <td>Jan Martínez Ahrens: “El periódico tiene la na...</td>\n",
       "    </tr>\n",
       "    <tr>\n",
       "      <th>1</th>\n",
       "      <td>La estadounidense ha revolucionado su deporte ...</td>\n",
       "      <td>Simone Biles, la mujer que todo lo ha cambiado</td>\n",
       "    </tr>\n",
       "    <tr>\n",
       "      <th>2</th>\n",
       "      <td>La pandemia y el Brexit exponen la resistencia...</td>\n",
       "      <td>La relación no tan ‘especial’ de Johnson y Biden</td>\n",
       "    </tr>\n",
       "    <tr>\n",
       "      <th>3</th>\n",
       "      <td>El ministro de Exteriores pide una “respuesta ...</td>\n",
       "      <td>Israel acusa a Irán de un ataque contra un pet...</td>\n",
       "    </tr>\n",
       "    <tr>\n",
       "      <th>4</th>\n",
       "      <td>La actriz considera que se incumplió el contra...</td>\n",
       "      <td>Scarlett Johansson demanda a Disney por el est...</td>\n",
       "    </tr>\n",
       "    <tr>\n",
       "      <th>...</th>\n",
       "      <td>...</td>\n",
       "      <td>...</td>\n",
       "    </tr>\n",
       "    <tr>\n",
       "      <th>78</th>\n",
       "      <td>La estrella edita su segundo disco, ‘Happier T...</td>\n",
       "      <td>Billie Eilish ya no está tan deprimida</td>\n",
       "    </tr>\n",
       "    <tr>\n",
       "      <th>79</th>\n",
       "      <td>Fátima Gálvez y Alberto Fernández no consiguie...</td>\n",
       "      <td>Vídeo | El dúo mixto de tiradores españoles qu...</td>\n",
       "    </tr>\n",
       "    <tr>\n",
       "      <th>80</th>\n",
       "      <td>El clásico de Danny Boyle cumple un cuarto de ...</td>\n",
       "      <td>“Aglutinó muchos barrios del mundo y muchos mo...</td>\n",
       "    </tr>\n",
       "    <tr>\n",
       "      <th>81</th>\n",
       "      <td>El Gobierno de Iván Duque les hará un acompaña...</td>\n",
       "      <td>Colombia: 4.000 campesinos desplazados por gru...</td>\n",
       "    </tr>\n",
       "    <tr>\n",
       "      <th>82</th>\n",
       "      <td>Aunque se impulse la eficiencia energética y e...</td>\n",
       "      <td>El neonegacionismo, la mayor amenaza para el p...</td>\n",
       "    </tr>\n",
       "  </tbody>\n",
       "</table>\n",
       "<p>83 rows × 2 columns</p>\n",
       "</div>"
      ],
      "text/plain": [
       "                                                 body  \\\n",
       "0   El director de la edición americana de EL PAÍS...   \n",
       "1   La estadounidense ha revolucionado su deporte ...   \n",
       "2   La pandemia y el Brexit exponen la resistencia...   \n",
       "3   El ministro de Exteriores pide una “respuesta ...   \n",
       "4   La actriz considera que se incumplió el contra...   \n",
       "..                                                ...   \n",
       "78  La estrella edita su segundo disco, ‘Happier T...   \n",
       "79  Fátima Gálvez y Alberto Fernández no consiguie...   \n",
       "80  El clásico de Danny Boyle cumple un cuarto de ...   \n",
       "81  El Gobierno de Iván Duque les hará un acompaña...   \n",
       "82  Aunque se impulse la eficiencia energética y e...   \n",
       "\n",
       "                                                title  \n",
       "0   Jan Martínez Ahrens: “El periódico tiene la na...  \n",
       "1      Simone Biles, la mujer que todo lo ha cambiado  \n",
       "2    La relación no tan ‘especial’ de Johnson y Biden  \n",
       "3   Israel acusa a Irán de un ataque contra un pet...  \n",
       "4   Scarlett Johansson demanda a Disney por el est...  \n",
       "..                                                ...  \n",
       "78             Billie Eilish ya no está tan deprimida  \n",
       "79  Vídeo | El dúo mixto de tiradores españoles qu...  \n",
       "80  “Aglutinó muchos barrios del mundo y muchos mo...  \n",
       "81  Colombia: 4.000 campesinos desplazados por gru...  \n",
       "82  El neonegacionismo, la mayor amenaza para el p...  \n",
       "\n",
       "[83 rows x 2 columns]"
      ]
     },
     "execution_count": 27,
     "metadata": {},
     "output_type": "execute_result"
    }
   ],
   "source": [
    "el_pais.loc[:,'body':'title']"
   ]
  },
  {
   "cell_type": "code",
   "execution_count": null,
   "id": "1694413a",
   "metadata": {},
   "outputs": [],
   "source": []
  }
 ],
 "metadata": {
  "kernelspec": {
   "display_name": "Python 3",
   "language": "python",
   "name": "python3"
  },
  "language_info": {
   "codemirror_mode": {
    "name": "ipython",
    "version": 3
   },
   "file_extension": ".py",
   "mimetype": "text/x-python",
   "name": "python",
   "nbconvert_exporter": "python",
   "pygments_lexer": "ipython3",
   "version": "3.8.8"
  }
 },
 "nbformat": 4,
 "nbformat_minor": 5
}
